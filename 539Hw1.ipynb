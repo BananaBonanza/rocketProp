{
 "cells": [
  {
   "cell_type": "markdown",
   "metadata": {},
   "source": [
    "## Justin Butler\n",
    "AAE 539 - Hw 1<br>\n",
    "Spring 2020"
   ]
  },
  {
   "cell_type": "code",
   "execution_count": 35,
   "metadata": {},
   "outputs": [],
   "source": [
    "# Importing required packages for this homework\n",
    "import numpy as np\n",
    "import matplotlib.pyplot as plt\n",
    "import pandas as pd\n",
    "import os\n",
    "import sympy as sym\n",
    "\n",
    "%matplotlib inline"
   ]
  },
  {
   "cell_type": "markdown",
   "metadata": {},
   "source": [
    "## Problem 1\n",
    "Important information concerning the Raptor Engine:\n",
    "\\begin{align}\n",
    "P_c &= 300 bar\\\\\n",
    "T_c &= 3767 K\\\\\n",
    "\\gamma &= 1.2\\\\\n",
    "\\mathcal{M} &= 23 kg/kmol\\\\\n",
    "t_b &= 70 s\\\\\n",
    "h &= 50700\\left(\\frac{t}{t_b}\\right)\n",
    "\\end{align}\n"
   ]
  },
  {
   "cell_type": "code",
   "execution_count": 49,
   "metadata": {},
   "outputs": [],
   "source": [
    "#####################################################################\n",
    "## This block contains functions and classes to be used throughout ##\n",
    "#####################################################################\n",
    "\n",
    "#Keep note of this rounding function.\n",
    "## I use it throughout to change full float\n",
    "## values to round to three decimal places.\n",
    "def rounds(item):\n",
    "    ret = float('%.3f'% (item * 1000/1000))\n",
    "    return(ret)\n",
    "\n",
    "# Atmospheric model created using the NASA equation found at:\n",
    "# https://www.grc.nasa.gov/WWW/k-12/airplane/atmosmet.html\n",
    "class atmosphere:\n",
    "    def __init__(self, val, valGiven = 0,units = \"SI\"):\n",
    "        #Convert from US to SI\n",
    "        if units != \"SI\" and valGiven == 0:\n",
    "            val = val / 3.281\n",
    "        if units != \"SI\" and valGiven == 1:\n",
    "            val = val * 0.04788\n",
    "        #0 implies the given value is an altitude\n",
    "        #1 implies the given value is a pressure\n",
    "        if valGiven == 0:\n",
    "            self.h = val\n",
    "            self.hCalc()\n",
    "        elif valGiven == 1:\n",
    "            self.P = val\n",
    "            self.PCalc()\n",
    "        else:\n",
    "            print(\"Not a valid 'valGiven' parameter.\")\n",
    "    def hCalc(self):\n",
    "        if self.h < 11000:\n",
    "            self.T = 15.04 - 0.00649*self.h\n",
    "            self.P = 101.29 * ((self.T + 273.1)/288.08)**(5.256)\n",
    "        elif self.h < 25000:\n",
    "            self.T = -56.46\n",
    "            self.P = 22.65 * np.exp(1.73 - 0.000157*self.h)\n",
    "        elif self.h > 24999:\n",
    "            self.T = -131.21 + 0.00299*self.h\n",
    "            self.P = 2.488 * ((self.T + 273.1)/216.6)**(-11.388)\n",
    "        self.rho = self.P / (0.2869 * (self.T + 273.1))\n",
    "    def PCalc(self):\n",
    "        if self.P > 22.632:\n",
    "            self.T = (288.08*(self.P/101.29)**(1/5.256))-273.1\n",
    "            self.h = (self.T - 15.04)/(-0.00649)\n",
    "        elif self.P > 0.1113586:\n",
    "            self.T = -56.46\n",
    "            self.h = (1.73 - np.log((self.P/22.65)))/(0.000157)\n",
    "        else:\n",
    "            self.T = (216.6*(self.P/2.488)**(1/(-11.388)))-273.1\n",
    "            self.h = (self.T + 131.21)/0.00299\n",
    "        self.rho = self.P / (0.2869 * (self.T + 273.1))\n",
    "\n",
    "#This function will plot an unspecified number of graphs\n",
    "def plot(x,y1,y2,title):\n",
    "    plt.figure(figsize=(10,5))\n",
    "    plt.rc('xtick', labelsize=16)\n",
    "    plt.rc('ytick', labelsize=16)\n",
    "    #\n",
    "    plt.plot(x,y1,'-',color='k')\n",
    "    if y2 != []:\n",
    "        plt.plot(x,y2,'-', color='k')\n",
    "    #\n",
    "    plt.title(title, fontsize=18)\n",
    "    #plt.xlim(0,0.05)\n",
    "    #plt.ylim(0,0.1)\n",
    "    plt.xlabel('x-coordinate (m)',fontsize=18)\n",
    "    plt.ylabel('y-coordinate (m)',fontsize=18)\n",
    "    #plt.legend(loc=2, fontsize=16)\n",
    "    #\n",
    "    #plt.savefig('figure')\n",
    "    #\n",
    "    plt.show()\n",
    "    plt.close()\n",
    "    return(None)"
   ]
  },
  {
   "cell_type": "code",
   "execution_count": 37,
   "metadata": {},
   "outputs": [],
   "source": [
    "R_u = 8314.463 #m^3 Pa / K kmol\n",
    "P_c = 300 * 100000 #Pascals\n",
    "T_c = 3767\n",
    "gamma = 1.2\n",
    "mol = 23 #kg/kmol\n",
    "t_b = 70 #s\n",
    "def h(t):\n",
    "    alt = 50700*(t/t_b) * 0.3048 #meters\n",
    "    return(alt)"
   ]
  },
  {
   "cell_type": "code",
   "execution_count": 38,
   "metadata": {},
   "outputs": [],
   "source": [
    "## This block contains functions and classes to be used throughout\n",
    "def plot(x,y1,y2,title):\n",
    "    plt.figure(figsize=(10,5))\n",
    "    plt.rc('xtick', labelsize=16)\n",
    "    plt.rc('ytick', labelsize=16)\n",
    "    #\n",
    "    plt.plot(x,y1,'-',color='k')\n",
    "    if y2 != []:\n",
    "        plt.plot(x,y2,'-', color='k')\n",
    "    #\n",
    "    plt.title(title, fontsize=18)\n",
    "    #plt.xlim(0,0.05)\n",
    "    #plt.ylim(0,0.1)\n",
    "    plt.xlabel('x-coordinate (m)',fontsize=18)\n",
    "    plt.ylabel('y-coordinate (m)',fontsize=18)\n",
    "    #plt.legend(loc=2, fontsize=16)\n",
    "    #\n",
    "    #plt.savefig('figure')\n",
    "    #\n",
    "    plt.show()\n",
    "    plt.close()\n",
    "    return(None)"
   ]
  },
  {
   "cell_type": "markdown",
   "metadata": {},
   "source": [
    "#### PART A)\n",
    "What is the mass flow through the nozzle?"
   ]
  },
  {
   "cell_type": "code",
   "execution_count": 39,
   "metadata": {},
   "outputs": [
    {
     "data": {
      "image/png": "[encoded data removed]",
      "text/plain": [
       "<Figure size 720x360 with 1 Axes>"
      ]
     },
     "metadata": {
      "needs_background": "light"
     },
     "output_type": "display_data"
    }
   ],
   "source": [
    "#Start by reading in the xml file\n",
    "\n",
    "cwd = os.getcwd()\n",
    "#print(cwd)\n",
    "cf = pd.read_excel(r'contour.xlsx')\n",
    "#print(cf.head())\n",
    "xData = [cf.iloc[i,0] for i in range(len(cf.index))]\n",
    "#print(xData)\n",
    "y1Data = [cf.iloc[i,1] for i in range(len(cf.index))]\n",
    "y2Data = [-data for data in y1Data]\n",
    "#print(yData)\n",
    "\n",
    "plot(xData,y1Data,y2Data,\"Start of the Nozzle\")"
   ]
  },
  {
   "cell_type": "code",
   "execution_count": 46,
   "metadata": {},
   "outputs": [
    {
     "name": "stdout",
     "output_type": "stream",
     "text": [
      "The mass flow through the nozzle is:\n",
      "571.917 kg/s\n"
     ]
    }
   ],
   "source": [
    "#Finding the throat diameter\n",
    "d_t = 10\n",
    "for val in y1Data:\n",
    "    dis = np.abs(val - (-val))\n",
    "    if dis < d_t:\n",
    "        d_t = dis\n",
    "#From the throat diameter, find area of the throat\n",
    "A_t = np.pi * (d_t/2)**2\n",
    "#Find c*\n",
    "cStar = np.sqrt((R_u*T_c)/(gamma*mol))*((gamma+1)/2)**((gamma+1)/(2*(gamma-1)))\n",
    "print(\"The mass flow through the nozzle is:\")\n",
    "print(rounds((P_c*A_t)/cStar),\"kg/s\")"
   ]
  },
  {
   "cell_type": "markdown",
   "metadata": {},
   "source": [
    "#### Part b)\n",
    "For a given exit area $A_e$ or expansion ratio $\\varepsilon$, write a code which will calculate $C_f, I_{sp}$, and thrust as a function of time for this rocket."
   ]
  },
  {
   "cell_type": "code",
   "execution_count": 52,
   "metadata": {},
   "outputs": [],
   "source": [
    "#First, the function relating expansion ratio to mach\n",
    "def fMach(eps,M,gamma=1.2):\n",
    "    ans = eps - ( (1/M) *\n",
    "                ((2+(gamma-1)*M**2)/(gamma+1))**((gamma+1)/(2*(gamma-1))))\n",
    "    return(ans)\n",
    "#Next, the derivative:\n",
    "def fMachPrime(eps,M,gamma=1.2):\n",
    "    ans = (( (2+(gamma-1)*M**2)/(gamma+1) )**((gamma+1)/(2*gamma-2)) /\n",
    "          M^2\n",
    "          ) - ( ((gamma-1)*M**2 + 2)/(gamma+1) \n",
    "              )**(((gamma+1)/(2*gamma-2))-1)\n",
    "    return(ans)\n",
    "#The C_f equation is complicated so I'm putting it here\n",
    "def cfFunction(P_c, P_e, P_a, eps, gamma=1.2):\n",
    "    ans = ( ((2*gamma**2)/(gamma-1)) *\n",
    "          (2/(gamma+1))**((gamma+1)/(gamma-1)) *\n",
    "          (1 - (P_e/P_c)**((gamma-1)/gamma))**(1/2) +\n",
    "          (P_e/P_c - P_a/P_c)*eps)\n",
    "    return(ans)\n",
    "def rocketStuff(mDot,A_t,eps,h=15.5*10**3,P_c = 300*10**5,gamma=1.2):\n",
    "    #Find the mach at the exit\n",
    "    M_e = 1 #intial guess\n",
    "    for i in range(50):\n",
    "        save_M = M_e\n",
    "        fM = fMach(eps,M_e)\n",
    "        fMP = fMachPrime(eps,M_e)\n",
    "        M_e = M_e - fM/fMP\n",
    "        error = np.abs(M_e-save_M)\n",
    "        if error < 0.0001:\n",
    "            break\n",
    "    #From exit mach, find the exit pressure:\n",
    "    P_e = P_c*(1 + ((gamma-1)/2)*M_e)**((-gamma)/(gamma-1))\n",
    "    #Now, find ambient pressure from altitude\n",
    "    atmos = atmosphere(h)\n",
    "    P_a = atmos.P\n",
    "    #Next, we get the coefficient of thrust\n",
    "    c_f = cfFunction(P_c, P_e, P_a, eps, gamma)\n",
    "    #Now, onto the thrust calculation\n",
    "    F = c_f*P_c*A_t\n",
    "    #Finally, the I_sp\n",
    "    I_sp = F/mDot\n",
    "    return([c_f,F,I_sp])"
   ]
  },
  {
   "cell_type": "markdown",
   "metadata": {},
   "source": [
    "#### Part c)\n",
    "Using your code, plot $C_f, I_{sp}$ as a function of time for $\\varepsilon = 10$ and $15$."
   ]
  },
  {
   "cell_type": "code",
   "execution_count": null,
   "metadata": {},
   "outputs": [],
   "source": [
    "#Set up the parameter, t, as time and solve for heights\n",
    "t = np.linspace{1,70,1000}\n",
    "hVals = [h(value) for value in t]\n",
    "#Set up the empty lists I will be filling with values\n",
    "c_f = [[],[]]\n",
    "I_sp = [[],[]]\n",
    "#Epsilon values\n",
    "epsilon = [10,15]\n",
    "for item in epsilon:\n",
    "    for jtem in h:\n",
    "        \n"
   ]
  }
 ],
 "metadata": {
  "kernelspec": {
   "display_name": "Python 3",
   "language": "python",
   "name": "python3"
  },
  "language_info": {
   "codemirror_mode": {
    "name": "ipython",
    "version": 3
   },
   "file_extension": ".py",
   "mimetype": "text/x-python",
   "name": "python",
   "nbconvert_exporter": "python",
   "pygments_lexer": "ipython3",
   "version": "3.7.1"
  }
 },
 "nbformat": 4,
 "nbformat_minor": 2
}
