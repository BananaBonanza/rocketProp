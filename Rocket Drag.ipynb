{
 "cells": [
  {
   "cell_type": "code",
   "execution_count": 2,
   "metadata": {},
   "outputs": [
    {
     "data": {
      "application/javascript": [
       "// Making sure the outputs display correctly\n",
       "IPython.OutputArea.prototype._should_scroll = function(lines) {\n",
       "    return false;\n",
       "}\n"
      ],
      "text/plain": [
       "<IPython.core.display.Javascript object>"
      ]
     },
     "metadata": {},
     "output_type": "display_data"
    }
   ],
   "source": [
    "%%javascript\n",
    "// Making sure the outputs display correctly\n",
    "IPython.OutputArea.prototype._should_scroll = function(lines) {\n",
    "    return false;\n",
    "}"
   ]
  },
  {
   "cell_type": "code",
   "execution_count": 3,
   "metadata": {},
   "outputs": [
    {
     "name": "stdout",
     "output_type": "stream",
     "text": [
      "C:\\Users\\butle175\\Downloads\n"
     ]
    }
   ],
   "source": [
    "# Importing required packages for this homework\n",
    "import numpy as np\n",
    "import matplotlib.pyplot as plt\n",
    "import pandas as pd\n",
    "import os\n",
    "#from IPython.display import HTML, display\n",
    "#import tabulate\n",
    "%matplotlib inline\n",
    "\n",
    "def rounds(item):\n",
    "    ret = float('%.2f'% (item * 100/100))\n",
    "    return(ret)\n",
    "\n",
    "path = os.getcwd()\n",
    "print(path)"
   ]
  },
  {
   "cell_type": "code",
   "execution_count": 4,
   "metadata": {},
   "outputs": [],
   "source": [
    "# https://www.grc.nasa.gov/WWW/k-12/airplane/atmosmet.html\n",
    "class atmosphere:\n",
    "    def __init__(self, val, valGiven = 0,units = \"SI\"):\n",
    "        #Convert from US to SI\n",
    "        if units != \"SI\" and valGiven == 0:\n",
    "            val = val / 3.281\n",
    "        if units != \"SI\" and valGiven == 1:\n",
    "            val = val * 0.04788\n",
    "        #0 implies the given value is an altitude\n",
    "        #1 implies the given value is a pressure\n",
    "        if valGiven == 0:\n",
    "            self.h = val\n",
    "        elif valGiven == 1:\n",
    "            self.P = val\n",
    "        else:\n",
    "            print(\"Not a valid 'valGiven' parameter.\")\n",
    "    def hCalc(self):\n",
    "        if self.h < 11000:\n",
    "            self.T = 15.04 - 0.00649*self.h #K\n",
    "            self.P = 101.29 * ((self.T + 273.1)/288.08)**(5.256) #kPa\n",
    "        elif self.h < 25000:\n",
    "            self.T = -56.46\n",
    "            self.P = 22.65 * np.exp(1.73 - 0.000157*self.h)\n",
    "        elif self.h > 24999:\n",
    "            self.T = -131.21 + 0.00299*self.h\n",
    "            self.P = 2.488 * ((self.T + 273.1)/216.6)**(-11.388)\n",
    "        self.rho = self.P / (0.2869 * (self.T + 273.1))\n",
    "    def PCalc(self):\n",
    "        if self.P > 22.632:\n",
    "            self.T = (288.08*(self.P/101.29)**(1/5.256))-273.1\n",
    "            self.h = (self.T - 15.04)/(-0.00649)\n",
    "        elif self.P > 0.1113586:\n",
    "            self.T = -56.46\n",
    "            self.h = (1.73 - np.log((self.P/22.65)))/(0.000157)\n",
    "        else:\n",
    "            self.T = (216.6*(self.P/2.488)**(1/(-11.388)))-273.1\n",
    "            self.h = (self.T + 131.21)/0.00299\n",
    "        self.rho = self.P / (0.2869 * (self.T + 273.1))"
   ]
  },
  {
   "cell_type": "code",
   "execution_count": 33,
   "metadata": {},
   "outputs": [
    {
     "name": "stdout",
     "output_type": "stream",
     "text": [
      "diameter: 0.0687231044270804\n",
      "falling area (US): 0.06074218991561928\n",
      "Falling area: 0.06074218991561928 sq meters\n",
      "0.24524641988318885\n"
     ]
    }
   ],
   "source": [
    "#Finding angle it is falling at\n",
    "angRad = 195 #pixels\n",
    "angX = 124 #pixels\n",
    "theta = np.arccos(124/195)\n",
    "#print(rounds(theta),'radians')\n",
    "#From flat going down\n",
    "thetaFlat = np.pi - theta - np.pi/2\n",
    "#print(rounds(thetaFlat))\n",
    "\n",
    "Afin = (17.537 * 0.0254 ** 2)*np.cos(thetaFlat) #sq in\n",
    "\n",
    "radRock = (8.5 / (np.pi * 2)) * 0.0254 #m\n",
    "print(\"diameter:\",(radRock*2)) #meters\n",
    "lenNose = 9 * 0.0254 #m\n",
    "lenBody = 30 * 0.0254 #m\n",
    "Aflat = (radRock**2 * np.pi)+(radRock*2*lenBody)\n",
    "Abody = Aflat * np.cos(thetaFlat) #sq in\n",
    "\n",
    "totAreaFalling = Abody + Afin*2\n",
    "print('falling area (US):', totAreaFalling)\n",
    "print('Falling area:',totAreaFalling,'sq meters')\n",
    "print((11*0.0254)**2*np.pi)"
   ]
  },
  {
   "cell_type": "code",
   "execution_count": 34,
   "metadata": {},
   "outputs": [
    {
     "name": "stdout",
     "output_type": "stream",
     "text": [
      "7.073425647864539\n"
     ]
    }
   ],
   "source": [
    "## Cd with parachute\n",
    "CdPara = (2 * 4.44822) / (1.229 * (0.06074 + ((11*0.0254)**2*np.pi)) * (1.8288**2))\n",
    "print(CdPara)"
   ]
  },
  {
   "cell_type": "code",
   "execution_count": 38,
   "metadata": {},
   "outputs": [
    {
     "name": "stdout",
     "output_type": "stream",
     "text": [
      "[[ 6.50553685e-02]\n",
      " [-3.14758689e+01]\n",
      " [ 7.89483828e+03]]\n"
     ]
    }
   ],
   "source": [
    "#Quadratic regression\n",
    "def quadReg(points):\n",
    "    n = len(points)\n",
    "    X = [item[0] for item in points]\n",
    "    Y = [item[1] for item in points]\n",
    "    Sx = sum(X)\n",
    "    Sy = sum(Y)\n",
    "    Sxx = sum([item**2 for item in X])\n",
    "    Sxxx = sum([item**3 for item in X])\n",
    "    Sxxxx = sum([item**4 for item in X])\n",
    "    Sxy = sum([X[i] * Y[i] for i in range(n)])\n",
    "    Sxxy = sum([X[i]**2 * Y[i] for i in range(n)])\n",
    "    A = [[Sxxxx,Sxxx,Sxx],[Sxxx,Sxx,Sx],[Sxx,Sx,n]]\n",
    "    b = [[Sxxy],[Sxy],[Sy]]\n",
    "    coef = np.linalg.solve(A, b)\n",
    "    return(coef)\n",
    "#Reynolds numbers for alts in meters\n",
    "Rey0 = [[(0+459.67)*(5/9),7900],[(22+459.67)*(5/9),7200],\n",
    "        [(40+459.67)*(5/9),6800],[(60+459.67)*(5/9),6200],\n",
    "        [(80+459.67)*(5/9),5800],[(100+459.67)*(5/9),5400]]\n",
    "alt0 = quadReg(Rey0)\n",
    "print(alt0)"
   ]
  },
  {
   "cell_type": "code",
   "execution_count": 52,
   "metadata": {},
   "outputs": [
    {
     "name": "stdout",
     "output_type": "stream",
     "text": [
      "-5.714285714285717e-10 0.006742857142857143\n"
     ]
    }
   ],
   "source": [
    "#Coefficient of friction values (Turbulant)\n",
    "Cf = [[1300000,0.006],[2000000,0.0056]]\n",
    "m = (Cf[1][1]-Cf[0][1])/(Cf[1][0]-Cf[0][0])\n",
    "b = Cf[0][1] - (m*Cf[0][0])\n",
    "print(m,b)"
   ]
  },
  {
   "cell_type": "code",
   "execution_count": 42,
   "metadata": {},
   "outputs": [
    {
     "name": "stdout",
     "output_type": "stream",
     "text": [
      "52.6\n"
     ]
    }
   ],
   "source": [
    "#Wet surface area to Body surface area\n",
    "SwSbtNose = 8.6\n",
    "SwSbtBody = 44.\n",
    "SwSbt = SwSbtNose + SwSbtBody\n",
    "print(SwSbt)"
   ]
  },
  {
   "cell_type": "code",
   "execution_count": 56,
   "metadata": {},
   "outputs": [
    {
     "name": "stdout",
     "output_type": "stream",
     "text": [
      "Coefficient of drag for 0 F and 125 m/s:\n",
      " 0.28133016717371057\n"
     ]
    }
   ],
   "source": [
    "#####################################\n",
    "##       START OF CODE FILE        ##\n",
    "#####################################\n",
    "\n",
    "##### DON'T CHANGE THESE #####\n",
    "#Wet surface area to body surface area\n",
    "SwSbt = 52.6\n",
    "# Length over radius\n",
    "Ld = 39/2.705634\n",
    "# Length of the rocket\n",
    "L = 39/12 #feet\n",
    "\n",
    "##### CHANGE THIS ON DAY #####\n",
    "T = 271 #kelvin\n",
    "\n",
    "##### REGRESSIONS AND FUNCTIONS #####\n",
    "#Quadratic Regression for Determining Reynolds Number\n",
    "## Temperatures are in Kelvin\n",
    "## Re = aT^2 + bT + c\n",
    "a = 0.2107793\n",
    "b = -164.31097\n",
    "c = 36109.32\n",
    "#Find the unit value of Reynolds from temprature\n",
    "def reynolds(T,vel):\n",
    "    ReUnit = a*T**2 + b*T + c\n",
    "    Re = ReUnit * vel * L\n",
    "    return(Re)\n",
    "\n",
    "#Linear regression of coefficient of friction from Reynolds\n",
    "## Take values directly from above\n",
    "## Cf = m(Re) + b\n",
    "def CfSolve(Re):\n",
    "    #slope of regression\n",
    "    m = -5.71429 * 10**(-10)\n",
    "    #y-int of regressions\n",
    "    b = 0.006742857\n",
    "    Cf = m*Re + b\n",
    "    return(Cf)\n",
    "\n",
    "# Calculating Cd from these values\n",
    "def Cd(T, vel):\n",
    "    Rey = reynolds(T,vel)\n",
    "    Cf = CfSolve(Rey)\n",
    "    Cd = 1.02 * Cf * (1 + \n",
    "                      (1.5 / (Ld)**(3/2))\n",
    "                     ) * SwSbt\n",
    "    return(Cd)\n",
    "\n",
    "'''\n",
    "You can build a for loop around the Cd function and \n",
    "from there determine the coefficient of drag for every speed\n",
    "you might find along the trajectory\n",
    "'''\n",
    "\n",
    "#Example case\n",
    "testCase = Cd(T,125)\n",
    "print(\"Coefficient of drag for 0 F and 125 m/s:\\n\",testCase)\n",
    "\n"
   ]
  }
 ],
 "metadata": {
  "kernelspec": {
   "display_name": "Python 3",
   "language": "python",
   "name": "python3"
  },
  "language_info": {
   "codemirror_mode": {
    "name": "ipython",
    "version": 3
   },
   "file_extension": ".py",
   "mimetype": "text/x-python",
   "name": "python",
   "nbconvert_exporter": "python",
   "pygments_lexer": "ipython3",
   "version": "3.7.1"
  }
 },
 "nbformat": 4,
 "nbformat_minor": 2
}
