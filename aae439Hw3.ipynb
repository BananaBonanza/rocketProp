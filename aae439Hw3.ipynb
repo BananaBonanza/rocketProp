{
 "cells": [
  {
   "cell_type": "code",
   "execution_count": 49,
   "metadata": {},
   "outputs": [
    {
     "data": {
      "application/javascript": [
       "IPython.OutputArea.prototype._should_scroll = function(lines) {\n",
       "    return false;\n",
       "}\n"
      ],
      "text/plain": [
       "<IPython.core.display.Javascript object>"
      ]
     },
     "metadata": {},
     "output_type": "display_data"
    }
   ],
   "source": [
    "%%javascript\n",
    "IPython.OutputArea.prototype._should_scroll = function(lines) {\n",
    "    return false;\n",
    "}"
   ]
  },
  {
   "cell_type": "code",
   "execution_count": 135,
   "metadata": {},
   "outputs": [],
   "source": [
    "import numpy as np\n",
    "import matplotlib.pyplot as plt\n",
    "import decimal\n",
    "%matplotlib inline\n",
    "\n",
    "def findMach(rat):\n",
    "    mGuess = 1\n",
    "    i = 0\n",
    "    ratGuess = 0\n",
    "    while ratGuess < rat:\n",
    "        if i!= 0:\n",
    "            mGuess += 0.001\n",
    "        ratGuess = (1/mGuess)*((2+(gamma-1)*mGuess**2)/(gamma+1))**((gamma+1)/(2*(gamma-1)))\n",
    "        #print(ratGuess)\n",
    "        i += 1\n",
    "        if i > 10000:\n",
    "            print(\"Death\")\n",
    "            break\n",
    "    return(mGuess)\n",
    "def totalPres(Ps, M):\n",
    "    total = Ps * ((1+((gamma-1)/2)*M**2)**(gamma/(gamma-1)))\n",
    "    return(total)"
   ]
  },
  {
   "cell_type": "code",
   "execution_count": 154,
   "metadata": {},
   "outputs": [
    {
     "name": "stdout",
     "output_type": "stream",
     "text": [
      "[0.11329025296883527, 0.10759543170213134, 0.10320719522969589, 0.09904640942723565, 0.09552734004665996, 0.09257899796666125, 0.08974662776383224, 0.08702470241603856, 0.0847755650589861, 0.0826006157373917, 0.08084268307894646, 0.07913256160983595, 0.0774686715855549, 0.07584949457993626, 0.07427357075521278, 0.0730430287857046, 0.0718385753745645, 0.07065953768360957, 0.06950526328677831, 0.06837511945893471]\n"
     ]
    }
   ],
   "source": [
    "decimal.getcontext().rounding = decimal.ROUND_DOWN\n",
    "gamma = 1.4\n",
    "Pc0 = 1# * 101.325 #Kilopascals per atm\n",
    "Pe = 0.5# * 101.325\n",
    "AeAt = 3 #Ae/At\n",
    "\n",
    "#starting guess for area ratio\n",
    "AeAn = np.linspace(1.01,2.99,20)\n",
    "AnAt = [((item)**(-1) * 3) for item in AeAn]\n",
    "\n",
    "#Find mach function\n",
    "mach = []\n",
    "for item in AnAt:\n",
    "    #print(\"START\\n\" + str(item) + \"\\n\")\n",
    "    mGuess = 1\n",
    "    i = 0\n",
    "    ratGuess = 0\n",
    "    while ratGuess < item:\n",
    "        if i!= 0:\n",
    "            mGuess += 0.01\n",
    "        ratGuess = (1/mGuess)*((2+(gamma-1)*mGuess**2)/(gamma+1))**((gamma+1)/(2*(gamma-1)))\n",
    "        #print(ratGuess)\n",
    "        i += 1\n",
    "        if i > 10000:\n",
    "            print(\"Death\")\n",
    "            break\n",
    "    mach.append(float('%.3f'% (mGuess * 1000/1000)))\n",
    "p1 = []\n",
    "p01 = []\n",
    "mach1 = []\n",
    "for item in mach:\n",
    "    mach1.append((((gamma-1)*item**2+2)/(2*gamma*item**2 - (gamma-1))))\n",
    "    p01.append(Pc0*(((gamma+1)*item**2)/((gamma-1)*item**2+2))**(gamma/(gamma-1)) * ((gamma+1)/(2*gamma*item**2-(gamma-1)))**(1/(gamma-1)))\n",
    "mach3 = []\n",
    "for item in AeAn:\n",
    "    #print(\"START\\n\" + str(item) + \"\\n\")\n",
    "    mGuess = 1\n",
    "    i = 0\n",
    "    j = 0\n",
    "    ratGuess = 0\n",
    "    while ratGuess < item:\n",
    "        if i!= 0:\n",
    "            mGuess += 0.01\n",
    "        ratGuess = (mach1[j]/mGuess)*((2+(gamma-1)*mGuess**2)/(2+(gamma-1)*mach1[j]**2))**((gamma+1)/(2*(gamma-1)))\n",
    "        #print(ratGuess)\n",
    "        i += 1\n",
    "        if i > 10000:\n",
    "            print(\"Death\")\n",
    "            break\n",
    "    mach3.append(float('%.3f'% (mGuess * 1000/1000)))\n",
    "    j += 1\n",
    "i = 0\n",
    "p2 = []\n",
    "for item in mach3:\n",
    "    P2 = p01[i] / ((1+((gamma-1)/2)*item)**(gamma/(gamma-1)))\n",
    "    p2.append(P2)\n",
    "print(p2)"
   ]
  },
  {
   "cell_type": "markdown",
   "metadata": {},
   "source": [
    "***Exercise 4***"
   ]
  },
  {
   "cell_type": "code",
   "execution_count": null,
   "metadata": {},
   "outputs": [],
   "source": []
  },
  {
   "cell_type": "markdown",
   "metadata": {},
   "source": [
    "***EXERCISE 5***"
   ]
  },
  {
   "cell_type": "code",
   "execution_count": 145,
   "metadata": {},
   "outputs": [
    {
     "name": "stdout",
     "output_type": "stream",
     "text": [
      "Chamber Pressure:\n",
      "748.2588898369859\n",
      "At 20000 feet:\n",
      "3734.4827801224747\n",
      "16.55925903801642\n",
      "sea level:\n",
      "2985.212932241309\n",
      "16.52734898454601\n"
     ]
    }
   ],
   "source": [
    "#### PART A ####\n",
    "mass = 250 #lbs\n",
    "eps = 30\n",
    "gamma = 1.2\n",
    "Pe = 0.33333 * 6.75 #psi\n",
    "machExpanded = float('%.3f'% (findMach(30) * 1000/1000))\n",
    "Pc = totalPres(Pe,machExpanded)\n",
    "print(\"Chamber Pressure:\")\n",
    "print(Pc)\n",
    "\n",
    "#### PART B ####\n",
    "g_alt = 32.112 #ft/s\n",
    "c_fv = 1.85928\n",
    "cStar = 5000 #ft/s\n",
    "A_t = np.pi #sq in\n",
    "P_alt = 6.75 #psi\n",
    "mDot_alt = (g_alt*Pc*A_t)/cStar\n",
    "c_f = c_fv - (P_alt/Pc)*eps\n",
    "F_alt = c_f*Pc*A_t\n",
    "burnTimeA = mass/mDot_alt\n",
    "print(\"At 20000 feet:\")\n",
    "print(F_alt)\n",
    "print(burnTimeA)\n",
    "\n",
    "#### PART C ####\n",
    "g_sea = 32.174\n",
    "P_sea = 14.7 #psi\n",
    "mDot_sea = (g_sea*Pc*A_t)/cStar\n",
    "c_fs = c_fv - (P_sea/Pc)*eps\n",
    "F_sea = c_fs*Pc*A_t\n",
    "burnTimeS = mass/mDot_sea\n",
    "print(\"sea level:\")\n",
    "print(F_sea)\n",
    "print(burnTimeS)"
   ]
  }
 ],
 "metadata": {
  "kernelspec": {
   "display_name": "Python 3",
   "language": "python",
   "name": "python3"
  },
  "language_info": {
   "codemirror_mode": {
    "name": "ipython",
    "version": 3
   },
   "file_extension": ".py",
   "mimetype": "text/x-python",
   "name": "python",
   "nbconvert_exporter": "python",
   "pygments_lexer": "ipython3",
   "version": "3.7.1"
  }
 },
 "nbformat": 4,
 "nbformat_minor": 2
}
