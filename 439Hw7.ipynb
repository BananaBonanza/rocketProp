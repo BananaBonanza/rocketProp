{
 "cells": [
  {
   "cell_type": "code",
   "execution_count": 1,
   "metadata": {},
   "outputs": [
    {
     "data": {
      "application/javascript": [
       "// Making sure the outputs display correctly\n",
       "IPython.OutputArea.prototype._should_scroll = function(lines) {\n",
       "    return false;\n",
       "}\n"
      ],
      "text/plain": [
       "<IPython.core.display.Javascript object>"
      ]
     },
     "metadata": {},
     "output_type": "display_data"
    }
   ],
   "source": [
    "%%javascript\n",
    "// Making sure the outputs display correctly\n",
    "IPython.OutputArea.prototype._should_scroll = function(lines) {\n",
    "    return false;\n",
    "}"
   ]
  },
  {
   "cell_type": "code",
   "execution_count": 3,
   "metadata": {},
   "outputs": [],
   "source": [
    "# Importing required packages for this homework\n",
    "import numpy as np\n",
    "import matplotlib.pyplot as plt\n",
    "#from IPython.display import HTML, display\n",
    "#import tabulate\n",
    "%matplotlib inline\n",
    "\n",
    "def rounds(item):\n",
    "    ret = float('%.3f'% (item * 1000/1000))\n",
    "    return(ret)"
   ]
  },
  {
   "cell_type": "code",
   "execution_count": 25,
   "metadata": {},
   "outputs": [],
   "source": [
    "def linInterp(p1,p2,x):\n",
    "    m = (p2[1]-p1[1])/(p2[0]-p1[0])\n",
    "    b = p2[1]-(m*p2[0])\n",
    "    y = m*x + b\n",
    "    return(y)"
   ]
  },
  {
   "cell_type": "code",
   "execution_count": 26,
   "metadata": {},
   "outputs": [
    {
     "name": "stdout",
     "output_type": "stream",
     "text": [
      "19.360000000000003\n",
      "1.8171164\n",
      "287.10809582059125\n"
     ]
    }
   ],
   "source": [
    "P_c = 1000 * 6894.76 #Pascals\n",
    "cStar = 1550 #m/s\n",
    "g = 9.81 #m/s^2\n",
    "eps = (110**2*np.pi)/(25**2*np.pi)\n",
    "c_fv = linInterp([np.floor(eps),1.81523],[np.ceil(eps),1.82047],eps)\n",
    "I_spv = (c_fv*cStar)/g\n",
    "print(eps)\n",
    "print(c_fv)\n",
    "print(I_spv)"
   ]
  }
 ],
 "metadata": {
  "kernelspec": {
   "display_name": "Python 3",
   "language": "python",
   "name": "python3"
  },
  "language_info": {
   "codemirror_mode": {
    "name": "ipython",
    "version": 3
   },
   "file_extension": ".py",
   "mimetype": "text/x-python",
   "name": "python",
   "nbconvert_exporter": "python",
   "pygments_lexer": "ipython3",
   "version": "3.7.1"
  }
 },
 "nbformat": 4,
 "nbformat_minor": 2
}
