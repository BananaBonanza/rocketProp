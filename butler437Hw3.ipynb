{
 "cells": [
  {
   "cell_type": "code",
   "execution_count": 26,
   "metadata": {},
   "outputs": [
    {
     "data": {
      "application/javascript": [
       "IPython.OutputArea.prototype._should_scroll = function(lines) {\n",
       "    return false;\n",
       "}"
      ],
      "text/plain": [
       "<IPython.core.display.Javascript object>"
      ]
     },
     "metadata": {},
     "output_type": "display_data"
    }
   ],
   "source": [
    "%%javascript\n",
    "IPython.OutputArea.prototype._should_scroll = function(lines) {\n",
    "    return false;\n",
    "}"
   ]
  },
  {
   "cell_type": "markdown",
   "metadata": {},
   "source": [
    "# Code for Problem 2 - Iterative Method"
   ]
  },
  {
   "cell_type": "code",
   "execution_count": 54,
   "metadata": {},
   "outputs": [
    {
     "name": "stdout",
     "output_type": "stream",
     "text": [
      "Pressure Ratio: 1.0908774974497042\n"
     ]
    }
   ],
   "source": [
    "import numpy as np\n",
    "import matplotlib.pyplot as plt\n",
    "%matplotlib inline\n",
    "\n",
    "######################\n",
    "#      PROBLEM 2     #\n",
    "######################\n",
    "\n",
    "## ITERATIVE METHOD ##\n",
    "areaRat = 3\n",
    "pStagIn = 1 * 2.533 * 10**6 #pascals per atm\n",
    "pStatEx = 0.5 * 2.533 * 10**6\n",
    "gamma = 1.4\n",
    "\n",
    "def findMach(rat):\n",
    "    ## START ##\n",
    "    ## Finding mach for a given area ratio ##\n",
    "    machGuess = 1\n",
    "    findingMach = 0\n",
    "    j = 0\n",
    "    while findingMach < rat:\n",
    "        if j != 0:\n",
    "            machGuess += 0.0005\n",
    "        j += 1\n",
    "        findingMach = (1/machGuess)*((2+(gamma - 1)*machGuess**2)/(2+(gamma-1)))**((gamma+1)/(2*(gamma-1)))\n",
    "        if j >10000:\n",
    "            print(\"Overflow of Mach Calculation: Shutting down\")\n",
    "            break\n",
    "    M = machGuess\n",
    "    return(M)\n",
    "    ## mach calculation ##\n",
    "    ## END ##\n",
    "\n",
    "ratGuess = 1.2\n",
    "#make sure my computer doesn't explode\n",
    "i = 0\n",
    "Pe = 0\n",
    "while Pe < pStatEx:\n",
    "    if i != 0:\n",
    "        ratGuess -= 0.0001\n",
    "    \n",
    "    ## START ##\n",
    "    ## Finding mach for a given area ratio ##\n",
    "    machGuess = 1\n",
    "    findingMach = 0\n",
    "    M1 = findMach(ratGuess)\n",
    "    ## mach calculation ##\n",
    "    ## END ##\n",
    "    Pc1 = pStagIn\n",
    "    P1 = Pc1 * (1 + ((gamma - 1)/2)*M1**2)**(gamma/(1-gamma)) #Notice the subtraction order change\n",
    "    M2 = np.sqrt(((gamma-1)*M1**2+2)/(2*gamma*M1**2-(gamma-1)))\n",
    "    P2 = P1 * ((2*gamma*M1**2-(gamma-1))/(gamma+1))\n",
    "    Pc2 = Pc1 * ((((gamma+1)*M1**2)/((gamma-1)*M1**2 + 2))**((gamma)/(gamma-1)) *\n",
    "                 ((gamma+1)/(2*gamma*M1**2-(gamma-1)))**((1)/(gamma-1)))\n",
    "    normAreaRat = (1/M2)*((2 + (gamma-1)*M2**2)/(gamma+1))**((gamma+1)/(2*(gamma-1)))\n",
    "    AeAstarRat = normAreaRat * ratGuess\n",
    "    Mstar = findMach(AeAstarRat)\n",
    "    Pe = Pc2 / (1 + ((gamma-1)/2)*Mstar**2)**(gamma/(gamma-1))\n",
    "    \n",
    "    #print(\"i --- \" + str(i))\n",
    "    #print(\"Pe guess: \" + str(Pe))\n",
    "    #print(\"Actual Pe: \" + str(pStatEx))\n",
    "    #print(\"AeAstar: \" + str(AeAstarRat))\n",
    "    #print(\"normal: \" + str(normAreaRat))\n",
    "    \n",
    "    i += 1\n",
    "    #print()\n",
    "    if i > 10000:\n",
    "        print(\"Overflow of Location Calculation: Shutting Down Loop\")\n",
    "        break\n",
    "\n",
    "print(\"Pressure Ratio: \" + str(P2/Pe))\n"
   ]
  }
 ],
 "metadata": {
  "kernelspec": {
   "display_name": "Python 3",
   "language": "python",
   "name": "python3"
  },
  "language_info": {
   "codemirror_mode": {
    "name": "ipython",
    "version": 3
   },
   "file_extension": ".py",
   "mimetype": "text/x-python",
   "name": "python",
   "nbconvert_exporter": "python",
   "pygments_lexer": "ipython3",
   "version": "3.6.2"
  }
 },
 "nbformat": 4,
 "nbformat_minor": 2
}
