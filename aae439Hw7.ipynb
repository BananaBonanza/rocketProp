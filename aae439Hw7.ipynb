{
 "cells": [
  {
   "cell_type": "code",
   "execution_count": 1,
   "metadata": {},
   "outputs": [
    {
     "data": {
      "application/javascript": [
       "// Making sure the outputs display correctly\n",
       "IPython.OutputArea.prototype._should_scroll = function(lines) {\n",
       "    return false;\n",
       "}\n"
      ],
      "text/plain": [
       "<IPython.core.display.Javascript object>"
      ]
     },
     "metadata": {},
     "output_type": "display_data"
    }
   ],
   "source": [
    "%%javascript\n",
    "// Making sure the outputs display correctly\n",
    "IPython.OutputArea.prototype._should_scroll = function(lines) {\n",
    "    return false;\n",
    "}"
   ]
  },
  {
   "cell_type": "code",
   "execution_count": 116,
   "metadata": {},
   "outputs": [],
   "source": [
    "# Importing required packages for this homework\n",
    "import numpy as np\n",
    "import pandas as pd\n",
    "import matplotlib.pyplot as plt\n",
    "import os\n",
    "import sys\n",
    "import subprocess\n",
    "import shutil\n",
    "import sympy as sym\n",
    "\n",
    "%matplotlib inline"
   ]
  },
  {
   "cell_type": "markdown",
   "metadata": {},
   "source": [
    "## 5.20\n",
    "Consider the combustion of N_2O_4 and hydrazine at a pressure 4 MPa. Using NASA code, plot T_c,$\\mathcal{M}$, $T_c/\\mathcal{M}$, and $I_{spv}$ as a function of mixture ratio for $1.0<r<2.0$. What is the stoichiometric mixture ratio for this propellant combination"
   ]
  },
  {
   "cell_type": "code",
   "execution_count": 25,
   "metadata": {},
   "outputs": [
    {
     "name": "stdout",
     "output_type": "stream",
     "text": [
      "[' M, (1/n)          18.637   18.819\\n', ' M, (1/n)          18.355   18.519\\n', ' M, (1/n)          18.089   18.237\\n', ' M, (1/n)          17.837   17.970\\n', ' M, (1/n)          17.600   17.719\\n', ' M, (1/n)          17.376   17.482\\n', ' M, (1/n)          17.165   17.259\\n', ' M, (1/n)          16.965   17.049\\n', ' M, (1/n)          16.776   16.850\\n', ' M, (1/n)          16.597   16.662\\n', ' M, (1/n)          16.427   16.484\\n', ' M, (1/n)          16.266   16.316\\n', ' M, (1/n)          16.113   16.157\\n', ' M, (1/n)          15.967   16.006\\n', ' M, (1/n)          15.829   15.863\\n', ' M, (1/n)          15.697   15.727\\n', ' M, (1/n)          15.571   15.597\\n', ' M, (1/n)          15.451   15.474\\n', ' M, (1/n)          15.336   15.356\\n', ' M, (1/n)          15.227   15.245\\n', ' M, (1/n)          15.122   15.138\\n']\n"
     ]
    }
   ],
   "source": [
    "## IMPORT CEA OUTPUT ##\n",
    "cwd = os.getcwd()\n",
    "file_path = os.path.join(cwd, 'ceaOutput.txt')\n",
    "ceaFile = open(file_path, 'r')\n",
    "lines = []\n",
    "i = 0\n",
    "for line in ceaFile:\n",
    "    if i == 0 or i==1:\n",
    "        i=i+1\n",
    "    else:\n",
    "        lines.append([line])\n",
    "temp = []\n",
    "mol = []\n",
    "Isp = []\n",
    "for line in lines:\n",
    "    #print(line)\n",
    "    tCheck = line[0].startswith(' T, K')\n",
    "    iCheck = line[0].startswith(' Ivac,')\n",
    "    mCheck = line[0].startswith(' M,')\n",
    "    if tCheck:\n",
    "        temp.append(line[0])\n",
    "    if iCheck:\n",
    "        Isp.append(line[0])\n",
    "    if mCheck:\n",
    "        mol.append(line[0])\n",
    "print(mol)\n",
    "        \n"
   ]
  },
  {
   "cell_type": "markdown",
   "metadata": {},
   "source": [
    "## 5.27\n",
    "Hydrazine (N_2H_4) is a monopropleeant commmonly used in space propulsion application. This fluid decomposes into nitrogen gas, hydrogen gas, and ammonia (NH_3) depending on the pressure level. Assuming the hydrazine enters the reaction at room temperature and a decomposition at 10 atmosphers, determine:\n",
    "\n",
    "### a)\n",
    "The equlibrium composition and adiabate flame temperature using $K_p$ data on the Purdue Propulsion Web page\n",
    "\n",
    "### b)\n",
    "The resulting $c^*$ of the decomposition gases"
   ]
  },
  {
   "cell_type": "code",
   "execution_count": 112,
   "metadata": {},
   "outputs": [],
   "source": [
    "# rounding function #\n",
    "def rounds(number):\n",
    "    trunc = float('%.3f'% (number * 1000/1000))\n",
    "    return(trunc)\n",
    "#Kp_16\n",
    "def Kp16(T):\n",
    "    if T>=600 and T<=2000:\n",
    "        Kp = 10**(1.0847*10**(-12) * T**4 -7.015*10**(-9)*T**3 +\n",
    "          1.7592*10**(-5)*T**2 - 2.14*10**(-2)*T + 6.4824)\n",
    "    elif T>2000:\n",
    "        Kp = 10**(-4.4574*10**(-11)*2000**(3)+5.2571*10**(-7)*2000**(2)\n",
    "              -2.2*10**(-3)*2000 -1.9461)\n",
    "    else:\n",
    "        print(\"Invalid Temperature. Give something larger than 600K\")\n",
    "        Kp = False\n",
    "    return Kp\n",
    "#Solving for #mols from Kp\n",
    "def molSolver(Kp):\n",
    "    # First c\n",
    "    c1 = 0\n",
    "    KpTest = 0\n",
    "    while KpTest < Kp:\n",
    "        KpTest = (c1 / (\n",
    "                 ((2-c1)/2)**(1/2) *\n",
    "                 ((4-3*c1)/2)**(3/2))\n",
    "                 )\n",
    "        c1+=0.0001\n",
    "        if c1 > 10:\n",
    "            c1 = 'null'\n",
    "            break\n",
    "    # Second c (possibly)\n",
    "    c2 = 1\n",
    "    KpTest = 1\n",
    "    while KpTest > Kp:\n",
    "        KpTest = (c2 / (\n",
    "                 ((2-c2)/2)**(1/2) *\n",
    "                 ((4-3*c2)/2)**(3/2))\n",
    "                 )\n",
    "        c2-=0.0001\n",
    "        if c2 < 0:\n",
    "            c2 = 'null'\n",
    "            break\n",
    "    try:\n",
    "        if np.abs(c1-c2) < 0.01:\n",
    "            return rounds(c1)\n",
    "        else:\n",
    "            return [rounds(c1),rounds(c2)]\n",
    "    except:\n",
    "        if type(c1)!='string':\n",
    "            return(c1)\n",
    "        elif type(c2)!='string':\n",
    "            return(c2)\n",
    "        else:\n",
    "            return(0)\n",
    "# Cp Equations as given in the book\n",
    "def CpSolver(T):\n",
    "    cpN = 27.336+6.23*(T/1000)-0.95082*(T/1000)*2\n",
    "    cpH = 26.896+4.3501*(T/1000)-0.32674*(T/1000)**2\n",
    "    cpAm = 27.578+25.665*(T/1000)+9.9072*(T/1000)**2-6.6909*(T/1000)**3\n",
    "    return([cpN,cpH,cpAm])\n",
    "# Trapezoid method for Approximate Integral\n",
    "def Trapezoid(data):\n",
    "    #Assuming evenly spaced points\n",
    "    delX = np.abs(data[0][0]-data[1][0])\n",
    "    yVal = [item[1] for item in data]\n",
    "    trap = (delX/2)*(data[0][1]+data[-1][1] +\n",
    "                    sum(2*yVal[1:-1]))\n",
    "    return(trap)\n",
    "\n",
    "T = np.linspace(600,4000,2000)       \n",
    "processed = pool.map(f, list(T))\n",
    "pool.close()\n",
    "pool.join()\n",
    "print(processed)\n",
    "Kp = [Kp16(item) for item in T]\n",
    "c = [molSolver(item) for item in Kp]\n"
   ]
  },
  {
   "cell_type": "code",
   "execution_count": 118,
   "metadata": {},
   "outputs": [
    {
     "name": "stdout",
     "output_type": "stream",
     "text": [
      "[870.4352176088044]\n"
     ]
    }
   ],
   "source": [
    "Q12 = []\n",
    "for i in range(len(c)):\n",
    "    a = (2-c[i])/2\n",
    "    b = (4-3*c[i])/2\n",
    "    tRange = np.linspace(298,T[i],1000)\n",
    "    cpVals = [CpSolver(item) for item in tRange]\n",
    "    pointsN = [[tRange[i],cpVals[i][0]] for i in range(len(tRange))]\n",
    "    intN = Trapezoid(pointsN)\n",
    "    pointsH = [[tRange[i],cpVals[i][1]] for i in range(len(tRange))]\n",
    "    intH = Trapezoid(pointsH)\n",
    "    pointsAm = [[tRange[i],cpVals[i][2]] for i in range(len(tRange))]\n",
    "    intAm = Trapezoid(pointsAm)\n",
    "    # 2 -> 2B\n",
    "    H2H2b = a*intN + b*intH + c[i]*intN\n",
    "    delHb = (-11.04*4184 * c[i]) - (12.05 * 4184)\n",
    "    Q12.append(H2H2b + delHb)\n",
    "correct_Temp = []\n",
    "for item in Q12:\n",
    "    if np.abs(item)<50:\n",
    "        correct_Temp.append(Q12.index(item))\n",
    "print([T[i] for i in correct_Temp])"
   ]
  },
  {
   "cell_type": "code",
   "execution_count": 119,
   "metadata": {},
   "outputs": [
    {
     "name": "stdout",
     "output_type": "stream",
     "text": [
      "[-8.733924464031588]\n",
      "[0.004]\n"
     ]
    }
   ],
   "source": [
    "print([Q12[item] for item in correct_Temp])\n",
    "print([c[item] for item in correct_Temp])"
   ]
  },
  {
   "cell_type": "code",
   "execution_count": 133,
   "metadata": {},
   "outputs": [
    {
     "name": "stdout",
     "output_type": "stream",
     "text": [
      "1004.532  m/s\n"
     ]
    }
   ],
   "source": [
    "T_c = T[correct_Temp[0]]\n",
    "M_N2 = 14.0067 #g/mol\n",
    "M_H2 = 2.01588 #g/mol\n",
    "M_Am = 17.031 #g/mol\n",
    "c_m = c[correct_Temp[0]]\n",
    "a_m = (2-c_m)/2\n",
    "b_m = (4-3*c_m)/2\n",
    "moles = sum([a_m,b_m,c_m])\n",
    "totMass = a_m*M_N2 + b_m*M_H2 + c_m*M_Am\n",
    "CpVal = CpSolver(T_c)\n",
    "Cp_N2,Cp_H2,Cp_Am = CpVal[0],CpVal[1],CpVal[2]\n",
    "g_N2= (Cp_N2/(Cp_N2-(8.134/M_N2)))\n",
    "g_H2 = (Cp_H2/(Cp_H2-(8.134/M_H2)))\n",
    "g_Am = (Cp_Am/(Cp_Am-(8.134/M_Am)))\n",
    "# Mass Average of gamma values\n",
    "gamma = (a_m/moles)*g_N2 + (b_m/moles)*g_H2 + (c_m/moles)*g_Am\n",
    "cStar = np.sqrt((8314*T_c)/(gamma*totMass))*(2/(gamma+1))**((-gamma -1)/(2*(gamma-1)))\n",
    "print(rounds(cStar),\" m/s\")\n"
   ]
  },
  {
   "cell_type": "code",
   "execution_count": null,
   "metadata": {},
   "outputs": [],
   "source": [
    "'''\n",
    "####### GRAPHING ########\n",
    "plt.figure(figsize=(20,10))\n",
    "plt.rc('xtick', labelsize=16)\n",
    "plt.rc('ytick', labelsize=16)\n",
    "#\n",
    "plt.plot(T,Kp,'-', color='k')\n",
    "#\n",
    "#plt.plot(nozConX,nozConY,'-', color='purple')\n",
    "#plt.plot([item[0] for item in nozConXY],[item[1] for item in nozConXY],'-',color='purple')\n",
    "#plt.plot([item[0] for item in nozXYRot],[item[1] for item in nozXYRot],'-',color = 'blue',label = 'contour')\n",
    "#\n",
    "plt.title('Temperature', fontsize=18)\n",
    "#plt.xlim(0,0.05)\n",
    "#plt.ylim(0,0.1)\n",
    "plt.xlabel('T')\n",
    "plt.ylabel('Kp')\n",
    "#plt.legend(loc=2, fontsize=16)\n",
    "#\n",
    "#plt.savefig('figure')\n",
    "#\n",
    "plt.show()\n",
    "plt.close()\n",
    "'''"
   ]
  },
  {
   "cell_type": "markdown",
   "metadata": {},
   "source": [
    "## 5.28\n",
    "Repeat the calucations in problem 5.27 using the NASA thermochemistry code. Attach the relevant output tale summarizing chamber conditions. What  happens to the exhaust composition as the gases expand through a nozzle?"
   ]
  }
 ],
 "metadata": {
  "kernelspec": {
   "display_name": "Python 3",
   "language": "python",
   "name": "python3"
  },
  "language_info": {
   "codemirror_mode": {
    "name": "ipython",
    "version": 3
   },
   "file_extension": ".py",
   "mimetype": "text/x-python",
   "name": "python",
   "nbconvert_exporter": "python",
   "pygments_lexer": "ipython3",
   "version": "3.7.1"
  }
 },
 "nbformat": 4,
 "nbformat_minor": 2
}
